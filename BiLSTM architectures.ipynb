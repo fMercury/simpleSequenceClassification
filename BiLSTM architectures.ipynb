{
 "cells": [
  {
   "cell_type": "markdown",
   "metadata": {
    "hideCode": false,
    "hidePrompt": false
   },
   "source": [
    "# BiLSTM architectures for Sequence Labeling\n",
    "\n",
    "We will be working with the CONLL 2003 dataset, annotated for the task of Named Entity Recognition.\n",
    "\n",
    "The objetive of this notebook is to build different BiLSTM prototype networks for sequence labeling, and apply a very simple attention mechanisms before the recurrent layer. The base model is inpired in [this work](https://www.kaggle.com/gagandeep16/ner-using-bidirectional-lstm), by GaganBhatia. Most of the explanations of the code is in the accompaning slides.\n",
    "\n",
    "You can find two sample datasets directly hosted at UNC, [one](https://cs.famaf.unc.edu.ar/~mteruel/datasets/tensorflowMeetup/ner.csv) used by the original Kaggle notebook (150M) and a [smaller one](https://cs.famaf.unc.edu.ar/~mteruel/datasets/tensorflowMeetup/ner.sample.csv) just to play with (14M). If you are running in colab, just run the next cell with the corresponding URL to donwload the csv file."
   ]
  },
  {
   "cell_type": "code",
   "execution_count": 1,
   "metadata": {
    "hideCode": false,
    "hidePrompt": false
   },
   "outputs": [
    {
     "name": "stdout",
     "output_type": "stream",
     "text": [
      "mkdir: cannot create directory ‘data’: File exists\r\n",
      "wget: /home/milagro/miniconda2/envs/am_env/lib/libcrypto.so.1.0.0: no version information available (required by wget)\r\n",
      "wget: /home/milagro/miniconda2/envs/am_env/lib/libssl.so.1.0.0: no version information available (required by wget)\r\n",
      "wget: /home/milagro/miniconda2/envs/am_env/lib/libssl.so.1.0.0: no version information available (required by wget)\r\n",
      "File `data/data.sample.csv' already there; not retrieving.\r\n"
     ]
    }
   ],
   "source": [
    "! mkdir data; wget -O data/data.sample.csv -nc https://cs.famaf.unc.edu.ar/~mteruel/datasets/tensorflowMeetup/ner.sample.csv"
   ]
  },
  {
   "cell_type": "code",
   "execution_count": 7,
   "metadata": {
    "hideCode": false,
    "hidePrompt": false
   },
   "outputs": [],
   "source": [
    "%matplotlib inline\n",
    "import gzip\n",
    "import keras\n",
    "import numpy\n",
    "import pandas\n",
    "import pickle\n",
    "import os\n",
    "import seaborn\n",
    "\n",
    "from keras.preprocessing.sequence import pad_sequences\n",
    "from keras.utils import to_categorical\n",
    "from sklearn import metrics"
   ]
  },
  {
   "cell_type": "code",
   "execution_count": 8,
   "metadata": {
    "collapsed": true,
    "hideCode": false,
    "hidePrompt": false
   },
   "outputs": [],
   "source": [
    "dataset = pandas.read_csv(\"data/data.sample.csv\", encoding = \"ISO-8859-1\", error_bad_lines=False,\n",
    "                          usecols=['sentence_idx', 'word', 'pos', 'tag'])"
   ]
  },
  {
   "cell_type": "markdown",
   "metadata": {
    "hideCode": false,
    "hidePrompt": false
   },
   "source": [
    "Let's take a look at the dataset"
   ]
  },
  {
   "cell_type": "code",
   "execution_count": 9,
   "metadata": {
    "hideCode": false,
    "hidePrompt": false
   },
   "outputs": [
    {
     "data": {
      "text/html": [
       "<div>\n",
       "<style>\n",
       "    .dataframe thead tr:only-child th {\n",
       "        text-align: right;\n",
       "    }\n",
       "\n",
       "    .dataframe thead th {\n",
       "        text-align: left;\n",
       "    }\n",
       "\n",
       "    .dataframe tbody tr th {\n",
       "        vertical-align: top;\n",
       "    }\n",
       "</style>\n",
       "<table border=\"1\" class=\"dataframe\">\n",
       "  <thead>\n",
       "    <tr style=\"text-align: right;\">\n",
       "      <th></th>\n",
       "      <th>pos</th>\n",
       "      <th>sentence_idx</th>\n",
       "      <th>word</th>\n",
       "      <th>tag</th>\n",
       "    </tr>\n",
       "  </thead>\n",
       "  <tbody>\n",
       "    <tr>\n",
       "      <th>0</th>\n",
       "      <td>NNS</td>\n",
       "      <td>1</td>\n",
       "      <td>Thousands</td>\n",
       "      <td>O</td>\n",
       "    </tr>\n",
       "    <tr>\n",
       "      <th>1</th>\n",
       "      <td>IN</td>\n",
       "      <td>1</td>\n",
       "      <td>of</td>\n",
       "      <td>O</td>\n",
       "    </tr>\n",
       "    <tr>\n",
       "      <th>2</th>\n",
       "      <td>NNS</td>\n",
       "      <td>1</td>\n",
       "      <td>demonstrators</td>\n",
       "      <td>O</td>\n",
       "    </tr>\n",
       "    <tr>\n",
       "      <th>3</th>\n",
       "      <td>VBP</td>\n",
       "      <td>1</td>\n",
       "      <td>have</td>\n",
       "      <td>O</td>\n",
       "    </tr>\n",
       "    <tr>\n",
       "      <th>4</th>\n",
       "      <td>VBN</td>\n",
       "      <td>1</td>\n",
       "      <td>marched</td>\n",
       "      <td>O</td>\n",
       "    </tr>\n",
       "    <tr>\n",
       "      <th>5</th>\n",
       "      <td>IN</td>\n",
       "      <td>1</td>\n",
       "      <td>through</td>\n",
       "      <td>O</td>\n",
       "    </tr>\n",
       "    <tr>\n",
       "      <th>6</th>\n",
       "      <td>NNP</td>\n",
       "      <td>1</td>\n",
       "      <td>London</td>\n",
       "      <td>B-geo</td>\n",
       "    </tr>\n",
       "    <tr>\n",
       "      <th>7</th>\n",
       "      <td>TO</td>\n",
       "      <td>1</td>\n",
       "      <td>to</td>\n",
       "      <td>O</td>\n",
       "    </tr>\n",
       "    <tr>\n",
       "      <th>8</th>\n",
       "      <td>VB</td>\n",
       "      <td>1</td>\n",
       "      <td>protest</td>\n",
       "      <td>O</td>\n",
       "    </tr>\n",
       "    <tr>\n",
       "      <th>9</th>\n",
       "      <td>DT</td>\n",
       "      <td>1</td>\n",
       "      <td>the</td>\n",
       "      <td>O</td>\n",
       "    </tr>\n",
       "  </tbody>\n",
       "</table>\n",
       "</div>"
      ],
      "text/plain": [
       "   pos  sentence_idx           word    tag\n",
       "0  NNS             1      Thousands      O\n",
       "1   IN             1             of      O\n",
       "2  NNS             1  demonstrators      O\n",
       "3  VBP             1           have      O\n",
       "4  VBN             1        marched      O\n",
       "5   IN             1        through      O\n",
       "6  NNP             1         London  B-geo\n",
       "7   TO             1             to      O\n",
       "8   VB             1        protest      O\n",
       "9   DT             1            the      O"
      ]
     },
     "execution_count": 9,
     "metadata": {},
     "output_type": "execute_result"
    }
   ],
   "source": [
    "dataset[:10]"
   ]
  },
  {
   "cell_type": "code",
   "execution_count": 10,
   "metadata": {
    "collapsed": true,
    "hideCode": false,
    "hidePrompt": false
   },
   "outputs": [],
   "source": [
    "class SentenceFactory(object):\n",
    "    \n",
    "    def __init__(self, dataset, tag_preprocess=lambda x: x):\n",
    "        self.dataset = dataset\n",
    "        agg_func = lambda s: [\n",
    "            (w, p, tag_preprocess(t)) \n",
    "            for w, p, t in zip(s[\"word\"].values.tolist(), s['pos'].values.tolist(),\n",
    "                               s[\"tag\"].values.tolist())\n",
    "        ]\n",
    "        grouped = self.dataset.groupby(\"sentence_idx\").apply(agg_func)\n",
    "        self.sentences = [s for s in grouped]"
   ]
  },
  {
   "cell_type": "code",
   "execution_count": 11,
   "metadata": {
    "hideCode": false,
    "hidePrompt": false
   },
   "outputs": [
    {
     "data": {
      "text/plain": [
       "[[('Thousands', 'NNS', 'O'),\n",
       "  ('of', 'IN', 'O'),\n",
       "  ('demonstrators', 'NNS', 'O'),\n",
       "  ('have', 'VBP', 'O'),\n",
       "  ('marched', 'VBN', 'O'),\n",
       "  ('through', 'IN', 'O'),\n",
       "  ('London', 'NNP', 'B-geo'),\n",
       "  ('to', 'TO', 'O'),\n",
       "  ('protest', 'VB', 'O'),\n",
       "  ('the', 'DT', 'O'),\n",
       "  ('war', 'NN', 'O'),\n",
       "  ('in', 'IN', 'O'),\n",
       "  ('Iraq', 'NNP', 'B-geo'),\n",
       "  ('and', 'CC', 'O'),\n",
       "  ('demand', 'VB', 'O'),\n",
       "  ('the', 'DT', 'O'),\n",
       "  ('withdrawal', 'NN', 'O'),\n",
       "  ('of', 'IN', 'O'),\n",
       "  ('British', 'JJ', 'B-gpe'),\n",
       "  ('troops', 'NNS', 'O'),\n",
       "  ('from', 'IN', 'O'),\n",
       "  ('that', 'DT', 'O'),\n",
       "  ('country', 'NN', 'O'),\n",
       "  ('.', '.', 'O')]]"
      ]
     },
     "execution_count": 11,
     "metadata": {},
     "output_type": "execute_result"
    }
   ],
   "source": [
    "instances = SentenceFactory(dataset).sentences\n",
    "\n",
    "instances[0:1]"
   ]
  },
  {
   "cell_type": "code",
   "execution_count": 12,
   "metadata": {
    "hideCode": false,
    "hidePrompt": false
   },
   "outputs": [
    {
     "name": "stdout",
     "output_type": "stream",
     "text": [
      "Vocabulary size 10923\n"
     ]
    }
   ],
   "source": [
    "unique_words = dataset.word.unique()\n",
    "unique_words.sort()\n",
    "unique_words = numpy.append(unique_words, \"ENDPAD\")\n",
    "print('Vocabulary size {}'.format(unique_words.shape[0]))"
   ]
  },
  {
   "cell_type": "code",
   "execution_count": 13,
   "metadata": {
    "hideCode": false,
    "hidePrompt": false
   },
   "outputs": [
    {
     "data": {
      "text/plain": [
       "array(['!', '\"', '$', ..., '\\x85', '°C', 'ENDPAD'], dtype=object)"
      ]
     },
     "execution_count": 13,
     "metadata": {},
     "output_type": "execute_result"
    }
   ],
   "source": [
    "unique_words"
   ]
  },
  {
   "cell_type": "code",
   "execution_count": 14,
   "metadata": {
    "hideCode": false,
    "hidePrompt": false
   },
   "outputs": [
    {
     "name": "stdout",
     "output_type": "stream",
     "text": [
      "['O' 'B-geo' 'B-gpe' 'B-per' 'I-geo' 'B-org' 'I-org' 'B-tim' 'B-art'\n",
      " 'I-art' 'I-per' 'I-gpe' 'I-tim' 'B-nat' 'B-eve' 'I-eve' 'I-nat']\n",
      "Unique labels 17\n"
     ]
    }
   ],
   "source": [
    "labels = dataset.tag.fillna('O').unique()\n",
    "print(labels)\n",
    "print('Unique labels {}'.format(labels.shape[0]))"
   ]
  },
  {
   "cell_type": "markdown",
   "metadata": {
    "hideCode": false,
    "hidePrompt": false
   },
   "source": [
    "## Processing the input sequences\n",
    "\n",
    "We need to pad our sequences to the same number of words, so the network can build a tensor from our (variable lenght) sentences. There are workarounds for this step, but maybe for another tutorial. In this case, we choose to use the lenght of the longest sequence."
   ]
  },
  {
   "cell_type": "code",
   "execution_count": 15,
   "metadata": {
    "hideCode": false,
    "hidePrompt": false
   },
   "outputs": [
    {
     "data": {
      "text/plain": [
       "70"
      ]
     },
     "execution_count": 15,
     "metadata": {},
     "output_type": "execute_result"
    }
   ],
   "source": [
    "max_sentence_length = dataset.groupby('sentence_idx').word.count().max()\n",
    "max_sentence_length"
   ]
  },
  {
   "cell_type": "code",
   "execution_count": 16,
   "metadata": {
    "collapsed": true,
    "hideCode": false,
    "hidePrompt": false
   },
   "outputs": [],
   "source": [
    "word2idx = {w: i for i, w in enumerate(unique_words)}\n",
    "labels2idx = {t: i for i, t in enumerate(labels)}"
   ]
  },
  {
   "cell_type": "code",
   "execution_count": 17,
   "metadata": {
    "collapsed": true,
    "hideCode": false,
    "hidePrompt": false
   },
   "outputs": [],
   "source": [
    "x_matrix = [[word2idx[w[0]] for w in s] for s in instances]\n",
    "x_matrix = pad_sequences(maxlen=max_sentence_length, sequences=x_matrix,\n",
    "                         padding=\"post\", value=unique_words.shape[0] - 1)"
   ]
  },
  {
   "cell_type": "code",
   "execution_count": 18,
   "metadata": {
    "collapsed": true,
    "hideCode": false,
    "hidePrompt": false
   },
   "outputs": [],
   "source": [
    "y = [[labels2idx[w[2]] for w in s] for s in instances]\n",
    "y = pad_sequences(maxlen=max_sentence_length, sequences=y, padding=\"post\", value=labels2idx[\"O\"])\n",
    "y = [to_categorical(i, num_classes=labels.shape[0]) for i in y]"
   ]
  },
  {
   "cell_type": "code",
   "execution_count": 19,
   "metadata": {
    "collapsed": true,
    "hideCode": false,
    "hidePrompt": false
   },
   "outputs": [],
   "source": [
    "from sklearn.model_selection import train_test_split\n",
    "X_train, X_test, y_train, y_test = train_test_split(x_matrix, y, test_size=0.2)"
   ]
  },
  {
   "cell_type": "code",
   "execution_count": 20,
   "metadata": {
    "hideCode": false,
    "hidePrompt": false
   },
   "outputs": [
    {
     "data": {
      "text/plain": [
       "[array([[ 0.,  0.,  0., ...,  0.,  0.,  0.],\n",
       "        [ 0.,  0.,  0., ...,  0.,  0.,  0.],\n",
       "        [ 1.,  0.,  0., ...,  0.,  0.,  0.],\n",
       "        ..., \n",
       "        [ 1.,  0.,  0., ...,  0.,  0.,  0.],\n",
       "        [ 1.,  0.,  0., ...,  0.,  0.,  0.],\n",
       "        [ 1.,  0.,  0., ...,  0.,  0.,  0.]]),\n",
       " array([[ 1.,  0.,  0., ...,  0.,  0.,  0.],\n",
       "        [ 0.,  0.,  0., ...,  0.,  0.,  0.],\n",
       "        [ 1.,  0.,  0., ...,  0.,  0.,  0.],\n",
       "        ..., \n",
       "        [ 1.,  0.,  0., ...,  0.,  0.,  0.],\n",
       "        [ 1.,  0.,  0., ...,  0.,  0.,  0.],\n",
       "        [ 1.,  0.,  0., ...,  0.,  0.,  0.]])]"
      ]
     },
     "execution_count": 20,
     "metadata": {},
     "output_type": "execute_result"
    }
   ],
   "source": [
    "y_train[:2]"
   ]
  },
  {
   "cell_type": "markdown",
   "metadata": {
    "hideCode": false,
    "hidePrompt": false
   },
   "source": [
    "--- \n",
    "\n",
    "# Building the model\n",
    "\n",
    "We build a model with an object oriented interface so we can add and remove layers in sub-classes. This is the vanilla model, which is only using the middle BiLSTM layer."
   ]
  },
  {
   "cell_type": "code",
   "execution_count": 21,
   "metadata": {
    "collapsed": true,
    "hideCode": false,
    "hidePrompt": false
   },
   "outputs": [],
   "source": [
    "from keras import Model\n",
    "from keras.layers import (Bidirectional, concatenate, Conv1D, Dense,\n",
    "                          Dropout, Embedding, GlobalMaxPooling1D, Input,\n",
    "                          LSTM, TimeDistributed)"
   ]
  },
  {
   "cell_type": "code",
   "execution_count": 22,
   "metadata": {
    "collapsed": true,
    "hideCode": false,
    "hidePrompt": false
   },
   "outputs": [],
   "source": [
    "class BaseBiLSTM(object):\n",
    "    def __init__(self, vocabulary_size, max_sentence_length, labels,\n",
    "                 embedding_size=50):\n",
    "        self.model = None\n",
    "        self.vocabulary_size = vocabulary_size\n",
    "        self.embedding_size = embedding_size\n",
    "        self.max_sentence_length = max_sentence_length\n",
    "        self.labels = labels\n",
    "        self.n_labels = labels.shape[0]\n",
    "    \n",
    "    def add_input_layer(self):\n",
    "        return Input(shape=(None, ))\n",
    "        \n",
    "    def add_embedding_layer(self, layers):\n",
    "        layers = Embedding(\n",
    "            input_dim=self.vocabulary_size,\n",
    "            output_dim=self.embedding_size,\n",
    "            input_length=self.max_sentence_length)(layers)\n",
    "        return Dropout(0.1)(layers)\n",
    "    \n",
    "    def add_recurrent_layer(self, layers):\n",
    "        layers = Bidirectional(\n",
    "            LSTM(units=100, return_sequences=True,\n",
    "                 recurrent_dropout=0.1))(layers)\n",
    "        return layers\n",
    "    \n",
    "    def add_output_layer(self, layers):\n",
    "        layers = TimeDistributed(\n",
    "            Dense(self.n_labels, activation='softmax'),\n",
    "            name='dense_layer')(layers)\n",
    "        return layers, 'categorical_crossentropy'\n",
    "    \n",
    "    def build(self):\n",
    "        inputs = self.add_input_layer()\n",
    "        layers = self.add_embedding_layer(inputs)\n",
    "        layers = self.add_recurrent_layer(layers)\n",
    "        outputs, loss_function = self.add_output_layer(layers)        \n",
    "        \n",
    "        self.model = Model(inputs=inputs, outputs=outputs)\n",
    "        self.model.compile(optimizer='adam', loss=loss_function,\n",
    "                           metrics=['accuracy'])\n",
    "    \n",
    "    def fit(self, X_train, y_train, epochs, batch_size=32, validation_split=0.2):\n",
    "        if self.model is None:\n",
    "            self.build()\n",
    "        return self.model.fit(X_train, y_train, batch_size=batch_size, epochs=epochs,\n",
    "                              validation_split=validation_split, verbose=1)\n",
    "    \n",
    "    def predict(self, X_test):\n",
    "        return numpy.argmax(self.model.predict(X_test), axis=-1)\n",
    "    \n",
    "    def evaluate(self, X_test, y_test, cm=False):\n",
    "        predictions = numpy.argmax(self.model.predict(X_test), axis=-1).flatten()\n",
    "        true_labels = numpy.argmax(y_test, axis=-1).flatten()\n",
    "        print(metrics.classification_report(true_labels, predictions,\n",
    "                                            target_names=self.labels))\n",
    "        if cm:\n",
    "            seaborn.heatmap(\n",
    "                metrics.confusion_matrix(true_labels, predictions, labels=range(len(self.labels))),\n",
    "                xticklabels=self.labels, yticklabels=self.labels)"
   ]
  },
  {
   "cell_type": "code",
   "execution_count": 23,
   "metadata": {
    "hideCode": false,
    "hidePrompt": false
   },
   "outputs": [
    {
     "name": "stdout",
     "output_type": "stream",
     "text": [
      "_________________________________________________________________\n",
      "Layer (type)                 Output Shape              Param #   \n",
      "=================================================================\n",
      "input_1 (InputLayer)         (None, None)              0         \n",
      "_________________________________________________________________\n",
      "embedding_1 (Embedding)      (None, 70, 50)            546200    \n",
      "_________________________________________________________________\n",
      "dropout_1 (Dropout)          (None, 70, 50)            0         \n",
      "_________________________________________________________________\n",
      "bidirectional_1 (Bidirection (None, 70, 200)           120800    \n",
      "_________________________________________________________________\n",
      "dense_layer (TimeDistributed (None, 70, 17)            3417      \n",
      "=================================================================\n",
      "Total params: 670,417\n",
      "Trainable params: 670,417\n",
      "Non-trainable params: 0\n",
      "_________________________________________________________________\n"
     ]
    }
   ],
   "source": [
    "model = BaseBiLSTM(\n",
    "    vocabulary_size=len(word2idx) + 1, max_sentence_length=max_sentence_length,\n",
    "    labels=labels, embedding_size=50)\n",
    "model.build()\n",
    "model.model.summary()"
   ]
  },
  {
   "cell_type": "markdown",
   "metadata": {},
   "source": [
    "We train on a small portion just to check it works."
   ]
  },
  {
   "cell_type": "code",
   "execution_count": 24,
   "metadata": {
    "hideCode": false,
    "hidePrompt": false
   },
   "outputs": [
    {
     "name": "stdout",
     "output_type": "stream",
     "text": [
      "Train on 80 samples, validate on 20 samples\n",
      "Epoch 1/1\n",
      "80/80 [==============================] - 2s 29ms/step - loss: 2.8120 - acc: 0.5179 - val_loss: 2.7183 - val_acc: 0.9607\n"
     ]
    },
    {
     "data": {
      "text/plain": [
       "<keras.callbacks.History at 0x7f1dedcb77f0>"
      ]
     },
     "execution_count": 24,
     "metadata": {},
     "output_type": "execute_result"
    }
   ],
   "source": [
    "model.fit(X_train=X_train[:100], y_train=numpy.array(y_train)[:100], epochs=1)"
   ]
  },
  {
   "cell_type": "markdown",
   "metadata": {},
   "source": [
    "Additionally, with keras is very simple to store and load a model. To save:"
   ]
  },
  {
   "cell_type": "code",
   "execution_count": 29,
   "metadata": {
    "collapsed": true
   },
   "outputs": [],
   "source": [
    "model.model.save(os.path.join('models', 'vanilla-bilstm.keras'))"
   ]
  },
  {
   "cell_type": "markdown",
   "metadata": {},
   "source": [
    "And to load it back, once the model has been built:"
   ]
  },
  {
   "cell_type": "code",
   "execution_count": 30,
   "metadata": {
    "collapsed": true
   },
   "outputs": [],
   "source": [
    "model.model.load_weights(os.path.join('models', 'vanilla-bilstm.keras'))"
   ]
  },
  {
   "cell_type": "markdown",
   "metadata": {
    "hideCode": false,
    "hidePrompt": false
   },
   "source": [
    "---\n",
    "# Adding pre-trained word embeddings\n",
    "\n",
    "To preload the weights of a previous embedding, we only need to add an embedding layer with a pre-set weights. However, the indices of the tokens in our data won't be the same as the ones in the pretrained embeddings. As a result, we need a pretraining step where reorder the embeddings to follow the correct order. This step also allows us to discard the embeddings that are not present in the training dataset, significantly reducing the size of the model in memory. However, have into account this should be done only while you are optimizing the hyperparameters. A real model in production may encounter new words, thus benefitting from all the possible embeddings.\n",
    "\n",
    "This process is pretty straight forward and there are several tutorials online that delve deeper into this."
   ]
  },
  {
   "cell_type": "code",
   "execution_count": 74,
   "metadata": {
    "collapsed": true
   },
   "outputs": [],
   "source": [
    "def build_embedding_matrix(vocabulary, embeddings_filepath):\n",
    "    \"\"\"Create an embedding matrix using the vectors in embeddings_filepath\n",
    "    and following the order of words given in vocabulary.\n",
    "    \n",
    "    Args:\n",
    "        vocabulary: (dict) map from tokens to consecutive indices.\n",
    "        embeddings_filepath: (str) Direction of the embedding file. This function\n",
    "             is implemented for the Konminos embeddings.\n",
    "    \n",
    "    Returns:\n",
    "        A numpy.matrix with shape (vocabulary_size + 1, embedding_size). The first\n",
    "        embedding (row 0) is a zero embedding. All words in vocabulary not found\n",
    "        in the original embedding matrix are filled with random vectors.\n",
    "    \"\"\"\n",
    "    # TODO We are using the Konminos embeddings in part because they are easy to load\n",
    "    # but you should overwrite this part to fit every particular word embedding to load.\n",
    "    # Warning, this may consume your RAM, depedending on the type of embedding\n",
    "    # you are loading!\n",
    "    if vocabulary is None:\n",
    "        raise ValueError('vocabulary cannot be empty')\n",
    "    original_embeddings = gzip.open(embeddings_filepath, 'rt')\n",
    "    embedding_size = None\n",
    "    embeddings = None\n",
    "    not_found_words = 0\n",
    "    seen_words = []\n",
    "    for line in original_embeddings:\n",
    "        split = line.rstrip().split(\" \")\n",
    "        word = split[0]\n",
    "        if embedding_size is None:  # Only runs first time\n",
    "            embedding_size = len(split) - 1\n",
    "            # We add one more place for the padding token\n",
    "            embeddings = numpy.zeros((len(vocabulary) + 1, embedding_size))\n",
    "\n",
    "        # Assure that all lines in the embeddings file are of the same length\n",
    "        if (len(split) - 1) != embedding_size:\n",
    "            print('ERROR: A line in the embeddings file had more or less '\n",
    "                  'dimensions than expected. Skip token.')\n",
    "            continue\n",
    "\n",
    "        if word in vocabulary:\n",
    "            vector = numpy.array([float(num) for num in split[1:]])\n",
    "            embeddings[vocabulary[word]] = vector  # Save the embedding in the\n",
    "                                                   # correct row\n",
    "            seen_words.append(word)\n",
    "        # If the word is not in vocabulary, we ignore the embedding.                \n",
    "    del original_embeddings\n",
    "    # Calculate which words are still missing\n",
    "    empty_words = numpy.where(~embeddings.any(axis=1))[0]\n",
    "    print('{} out of {} words will be set with a random embedding'.format(\n",
    "        empty_words.shape[0], len(vocabulary)))\n",
    "    # Replace missing words with a random vector (so far they are all zeros)\n",
    "    embeddings[empty_words] = numpy.random.uniform(-0.25, 0.25, (len(empty_words), embedding_size))\n",
    "\n",
    "    # Adding padding token at the end\n",
    "    embeddings[embeddings.shape[0] - 1,:] = numpy.zeros(embedding_size)\n",
    "    return embeddings"
   ]
  },
  {
   "cell_type": "markdown",
   "metadata": {},
   "source": [
    "We save the embeddings to avoid calculating them again. After the first time you run this cell, comment this two lines and read the embeddings from disk directly. It is very important to keep a copy of your original word2idx, in case you need to preprocess new data. In this case, we are using always the same dataset and ordering the tokens, so we shouldn't have inconsistencies preprocessing the text more than once."
   ]
  },
  {
   "cell_type": "code",
   "execution_count": 64,
   "metadata": {},
   "outputs": [
    {
     "name": "stdout",
     "output_type": "stream",
     "text": [
      "mkdir: cannot create directory ‘models’: File exists\r\n"
     ]
    }
   ],
   "source": [
    "! mkdir models"
   ]
  },
  {
   "cell_type": "code",
   "execution_count": 75,
   "metadata": {},
   "outputs": [
    {
     "name": "stdout",
     "output_type": "stream",
     "text": [
      "3667 out of 10923 words will be set with a random embedding\n"
     ]
    }
   ],
   "source": [
    "embeddings_matrix = build_embedding_matrix(\n",
    "    vocabulary=word2idx,\n",
    "    embeddings_filepath='../../../am/data/embeddings/komninos_english_embeddings.gz')\n",
    "\n",
    "with open(os.path.join('models', 'komninos_word_embeddings.pickle'), 'wb') as file_:\n",
    "      pickle.dump([embeddings_matrix, word2idx], file_)"
   ]
  },
  {
   "cell_type": "code",
   "execution_count": 32,
   "metadata": {
    "collapsed": true
   },
   "outputs": [],
   "source": [
    "with open(os.path.join('models', 'komninos_word_embeddings.pickle'), 'rb') as file_:\n",
    "      embeddings_matrix, _ = pickle.load(file_)"
   ]
  },
  {
   "cell_type": "markdown",
   "metadata": {},
   "source": [
    "Finally, we can build our new model with only minimal changes. We add a new method to load the\n",
    "pre-trained matrix and update the corresponding attributes in the object."
   ]
  },
  {
   "cell_type": "code",
   "execution_count": 76,
   "metadata": {
    "collapsed": true,
    "hideCode": false,
    "hidePrompt": false
   },
   "outputs": [],
   "source": [
    "class WEmbBiLSTM(BaseBiLSTM):\n",
    "    \n",
    "    def add_word_embeddings(self, embeddings):\n",
    "        \"\"\"Saves into the model a matrix with the original weights for \n",
    "        the word embeddings.\n",
    "        \n",
    "        MUST BE CALLED BEFORE build, otherwise it has no effect.\n",
    "\n",
    "        Args:\n",
    "            embeddings: (numpy.ndarray) a 2-dimensional matrix with shape\n",
    "                (vocabulary_size, embedding_size).\n",
    "        \"\"\"\n",
    "        self.embeddings = embeddings\n",
    "        self.embedding_size = embeddings.shape[1]  # Overwrite this value\n",
    "        self.vocabulary_size = embeddings.shape[0]  # Overwrite this value\n",
    "\n",
    "    def add_embedding_layer(self, layers):\n",
    "        if self.embeddings is not None:  # Add the pretrained embeddings\n",
    "            layers = Embedding(\n",
    "                input_dim=self.vocabulary_size, output_dim=self.embedding_size,\n",
    "                weights=[self.embeddings],\n",
    "                trainable=False, input_length=self.max_sentence_length)(layers)\n",
    "        else:  # We use brand new embeddings\n",
    "            layers = Embedding(\n",
    "                input_dim=self.vocabulary_size, output_dim=self.embedding_size,\n",
    "                input_length=self.max_sentence_length)(layers)\n",
    "        return Dropout(0.1)(layers)"
   ]
  },
  {
   "cell_type": "code",
   "execution_count": 77,
   "metadata": {
    "hideCode": false,
    "hidePrompt": false
   },
   "outputs": [
    {
     "name": "stdout",
     "output_type": "stream",
     "text": [
      "_________________________________________________________________\n",
      "Layer (type)                 Output Shape              Param #   \n",
      "=================================================================\n",
      "input_4 (InputLayer)         (None, None)              0         \n",
      "_________________________________________________________________\n",
      "embedding_4 (Embedding)      (None, 70, 300)           3277200   \n",
      "_________________________________________________________________\n",
      "dropout_4 (Dropout)          (None, 70, 300)           0         \n",
      "_________________________________________________________________\n",
      "bidirectional_4 (Bidirection (None, 70, 200)           320800    \n",
      "_________________________________________________________________\n",
      "dense_layer (TimeDistributed (None, 70, 17)            3417      \n",
      "=================================================================\n",
      "Total params: 3,601,417\n",
      "Trainable params: 324,217\n",
      "Non-trainable params: 3,277,200\n",
      "_________________________________________________________________\n"
     ]
    }
   ],
   "source": [
    "model = WEmbBiLSTM(\n",
    "    vocabulary_size=len(word2idx) + 1, max_sentence_length=max_sentence_length,\n",
    "    labels=labels, embedding_size=300)\n",
    "model.add_word_embeddings(embeddings_matrix)\n",
    "model.build()\n",
    "model.model.summary()"
   ]
  },
  {
   "cell_type": "code",
   "execution_count": 78,
   "metadata": {
    "hideCode": false,
    "hidePrompt": false
   },
   "outputs": [
    {
     "data": {
      "text/plain": [
       "array([[-0.575054  ,  0.099223  ,  0.434153  , ..., -0.126422  ,\n",
       "         0.926405  , -0.232181  ],\n",
       "       [ 0.12836123,  0.00913203,  0.07571526, ...,  0.09042007,\n",
       "        -0.06730736,  0.04888196],\n",
       "       [-0.379194  ,  0.044204  ,  0.272724  , ..., -0.188948  ,\n",
       "         0.052879  ,  0.125714  ],\n",
       "       ..., \n",
       "       [ 0.13749349,  0.00245045,  0.0964503 , ..., -0.18370005,\n",
       "        -0.20895696,  0.0238491 ],\n",
       "       [-0.0323528 ,  0.01923495,  0.19879483, ...,  0.09524263,\n",
       "        -0.21764618, -0.21075525],\n",
       "       [ 0.        ,  0.        ,  0.        , ...,  0.        ,\n",
       "         0.        ,  0.        ]])"
      ]
     },
     "execution_count": 78,
     "metadata": {},
     "output_type": "execute_result"
    }
   ],
   "source": [
    "model.embeddings"
   ]
  },
  {
   "cell_type": "code",
   "execution_count": 26,
   "metadata": {
    "hideCode": false,
    "hidePrompt": false
   },
   "outputs": [
    {
     "name": "stdout",
     "output_type": "stream",
     "text": [
      "Train on 80 samples, validate on 20 samples\n",
      "Epoch 1/1\n",
      "80/80 [==============================] - 2s 27ms/step - loss: 2.6705 - acc: 0.5798 - val_loss: 2.3072 - val_acc: 0.9486\n"
     ]
    },
    {
     "data": {
      "text/plain": [
       "<keras.callbacks.History at 0x7fa0fc476828>"
      ]
     },
     "execution_count": 26,
     "metadata": {},
     "output_type": "execute_result"
    }
   ],
   "source": [
    "model.fit(X_train=X_train[:100], y_train=numpy.array(y_train)[:100], epochs=1)"
   ]
  },
  {
   "cell_type": "markdown",
   "metadata": {
    "collapsed": true,
    "hideCode": false,
    "hidePrompt": false
   },
   "source": [
    "---\n",
    "# Adding character embeddings\n",
    "\n",
    "Before adding the character embeddings, we need to assign an index to each char. Once we have done the mapping, we need to create a new input for the character information, and pad all the words to the length of the longest word. Note the char input will be a 3-dimensional tensor, because each word will be translated to a list of characters indices."
   ]
  },
  {
   "cell_type": "code",
   "execution_count": 79,
   "metadata": {
    "hideCode": false,
    "hidePrompt": false
   },
   "outputs": [
    {
     "data": {
      "text/plain": [
       "26"
      ]
     },
     "execution_count": 79,
     "metadata": {},
     "output_type": "execute_result"
    }
   ],
   "source": [
    "max_word_len = max([len(word) for word in unique_words])\n",
    "max_word_len"
   ]
  },
  {
   "cell_type": "code",
   "execution_count": 80,
   "metadata": {
    "hideCode": false,
    "hidePrompt": false
   },
   "outputs": [
    {
     "name": "stdout",
     "output_type": "stream",
     "text": [
      "And the words that complicates everything are: ['Pakistani-controlled' 'bigger-than-expected' 'pro-U.S.-immigration'\n",
      " 'Chancellor-designate' 'government-controlled' \"Baku-T'bilisi-Erzerum\"\n",
      " 'multi-million-selling' 'counter-revolutionary' 'internationally-backed'\n",
      " 'internationally-recognized']\n"
     ]
    }
   ],
   "source": [
    "print('And the words that complicates everything are: {}'.format(\n",
    "    unique_words[numpy.argsort([len(word) for word in unique_words])[-10:]]))"
   ]
  },
  {
   "cell_type": "code",
   "execution_count": 81,
   "metadata": {
    "hideCode": false,
    "hidePrompt": false
   },
   "outputs": [
    {
     "data": {
      "text/plain": [
       "'62 unique characters used'"
      ]
     },
     "execution_count": 81,
     "metadata": {},
     "output_type": "execute_result"
    }
   ],
   "source": [
    "unique_chars, counts = numpy.unique([c for c in ''.join(unique_words)], return_counts=True)\n",
    "char_limit = 60\n",
    "char2idx = {c: idx + 1 for idx, c in enumerate(unique_chars[numpy.argsort(counts)[-1*char_limit:]])}\n",
    "char2idx['UNK'] = len(char2idx) + 1\n",
    "char2idx['PAD'] = 0  # This is not needed, it's only for clarification\n",
    "'{} unique characters used'.format(len(char2idx))"
   ]
  },
  {
   "cell_type": "code",
   "execution_count": 86,
   "metadata": {
    "hideCode": false,
    "hidePrompt": false
   },
   "outputs": [],
   "source": [
    "def extract_chars(train_matrix, char2idx=char2idx, max_word_len=max_word_len,\n",
    "                  unique_words=unique_words):\n",
    "    \"\"\"Return the character indices for the input matrix.\n",
    "    \n",
    "    Args:\n",
    "        matrix: (array) A 2-dimensional array with word indices. The\n",
    "            expected shape is (batch_size, max_sentence_length)\n",
    "        char2idx: (dict) A map from characters to ids. Unknown characters\n",
    "            will be mapped to the last index, and padding characters will\n",
    "            be mapped to the 0 index.\n",
    "        max_word_len: (int) the size of the longest word\n",
    "        unique_words: (list) list with sorted words, that corresponds\n",
    "            to the ids in train_matrix\n",
    "    \n",
    "    Returns:\n",
    "        A 3-dimensional array with shape (batch_size, max_sentence_length,\n",
    "        max_word_lenght)\n",
    "    \"\"\"\n",
    "    char_matrix = numpy.zeros(train_matrix.shape + (max_word_len,) )\n",
    "    unknown_char_idx = len(char2idx) - 1\n",
    "    for example_idx, sentence in enumerate(train_matrix):\n",
    "        for token_position, word_idx in enumerate(sentence):\n",
    "            if word_idx == len(unique_words):  # Padding token\n",
    "                continue\n",
    "            chars = [char2idx.get(c, unknown_char_idx) for c in unique_words[word_idx]]\n",
    "            char_matrix[example_idx, token_position, :len(chars)] = chars\n",
    "    return char_matrix"
   ]
  },
  {
   "cell_type": "code",
   "execution_count": 87,
   "metadata": {
    "hideCode": false,
    "hidePrompt": false
   },
   "outputs": [
    {
     "data": {
      "text/plain": [
       "(5, 70, 26)"
      ]
     },
     "execution_count": 87,
     "metadata": {},
     "output_type": "execute_result"
    }
   ],
   "source": [
    "extract_chars(X_train[:5]).shape"
   ]
  },
  {
   "cell_type": "markdown",
   "metadata": {},
   "source": [
    "Now we can finally build our model. We need to add one more input and the new character embeddings layer. We build a single model for both types of embeddings to ilustrate the fact that they share a lot of code, but ideally this should be implemented in different models."
   ]
  },
  {
   "cell_type": "code",
   "execution_count": 89,
   "metadata": {
    "collapsed": true,
    "hideCode": false,
    "hidePrompt": false
   },
   "outputs": [],
   "source": [
    "class CEmbWEmbBiLSTM(WEmbBiLSTM):\n",
    "    def __init__(self, vocabulary_size, max_sentence_length, labels,\n",
    "                 embedding_size=50, max_char_index=50, char_embedding_type='cnn',\n",
    "                 max_word_length=20):\n",
    "        super(CEmbWEmbBiLSTM, self).__init__(vocabulary_size, max_sentence_length,\n",
    "                                             labels, embedding_size)\n",
    "        self.max_char_index = max_char_index\n",
    "        self.char_embedding_type = char_embedding_type\n",
    "        self.max_word_length = max_word_length\n",
    "    \n",
    "    def add_input_layer(self):\n",
    "        word_input = Input(shape=(self.max_sentence_length,),\n",
    "                           name='word_input')\n",
    "        char_input = Input(\n",
    "            shape=(self.max_sentence_length, self.max_word_length),\n",
    "            name='char_input')\n",
    "        return word_input, char_input\n",
    "    \n",
    "    def add_char_embedding_layer(self, char_input):\n",
    "        \"\"\"Add a convolution for the characters\"\"\"\n",
    "        limit = numpy.sqrt(3.0/self.max_char_index)\n",
    "        char_embedding_size = 15  # TODO define as a parameter\n",
    "        # We initialize the char embeddings randomly, \n",
    "        # including the UNK char in position 0.\n",
    "        self.char_embeddings = numpy.random.uniform(\n",
    "            -limit, limit, (self.max_char_index + 1,\n",
    "                            char_embedding_size))\n",
    "\n",
    "        # We need the TimeDistributed layer to embedd to every word\n",
    "        chars_layer = TimeDistributed(Embedding(\n",
    "            input_dim=self.char_embeddings.shape[0],\n",
    "            output_dim=self.char_embeddings.shape[1],\n",
    "            weights=[self.char_embeddings], trainable=True,\n",
    "            mask_zero=True), name='char_embedding')(char_input)\n",
    "\n",
    "        # Use CNNs for character embeddings from Ma and Hovy, 2016\n",
    "        char_filter_size = 5  # TODO define this as a parameter\n",
    "        char_filter_length = 5  # TODO define this as a parameter\n",
    "        chars_layer = TimeDistributed(\n",
    "            Conv1D(char_filter_size, char_filter_length, padding='same'),\n",
    "            name=\"char_cnn\")(chars_layer)\n",
    "        chars_layer = TimeDistributed(GlobalMaxPooling1D(),\n",
    "                                      name=\"char_pooling\")(chars_layer)\n",
    "        return chars_layer\n",
    "    \n",
    "    def add_embedding_layer(self, layers):\n",
    "        word_input, char_input = layers\n",
    "        # Add word embeddings with the previous method\n",
    "        word_layers = super(CEmbWEmbBiLSTM, self).add_embedding_layer(word_input)\n",
    "        \n",
    "        # Add char embeddings\n",
    "        char_layer = self.add_char_embedding_layer(char_input)\n",
    "        return concatenate([word_layers, char_layer])"
   ]
  },
  {
   "cell_type": "code",
   "execution_count": 90,
   "metadata": {
    "hideCode": false,
    "hidePrompt": false
   },
   "outputs": [
    {
     "name": "stdout",
     "output_type": "stream",
     "text": [
      "__________________________________________________________________________________________________\n",
      "Layer (type)                    Output Shape         Param #     Connected to                     \n",
      "==================================================================================================\n",
      "char_input (InputLayer)         (None, 70, 26)       0                                            \n",
      "__________________________________________________________________________________________________\n",
      "word_input (InputLayer)         (None, 70)           0                                            \n",
      "__________________________________________________________________________________________________\n",
      "char_embedding (TimeDistributed (None, 70, 26, 15)   930         char_input[0][0]                 \n",
      "__________________________________________________________________________________________________\n",
      "embedding_5 (Embedding)         (None, 70, 300)      3277200     word_input[0][0]                 \n",
      "__________________________________________________________________________________________________\n",
      "char_cnn (TimeDistributed)      (None, 70, 26, 5)    380         char_embedding[0][0]             \n",
      "__________________________________________________________________________________________________\n",
      "dropout_5 (Dropout)             (None, 70, 300)      0           embedding_5[0][0]                \n",
      "__________________________________________________________________________________________________\n",
      "char_pooling (TimeDistributed)  (None, 70, 5)        0           char_cnn[0][0]                   \n",
      "__________________________________________________________________________________________________\n",
      "concatenate_1 (Concatenate)     (None, 70, 305)      0           dropout_5[0][0]                  \n",
      "                                                                 char_pooling[0][0]               \n",
      "__________________________________________________________________________________________________\n",
      "bidirectional_5 (Bidirectional) (None, 70, 200)      324800      concatenate_1[0][0]              \n",
      "__________________________________________________________________________________________________\n",
      "dense_layer (TimeDistributed)   (None, 70, 17)       3417        bidirectional_5[0][0]            \n",
      "==================================================================================================\n",
      "Total params: 3,606,727\n",
      "Trainable params: 329,527\n",
      "Non-trainable params: 3,277,200\n",
      "__________________________________________________________________________________________________\n"
     ]
    }
   ],
   "source": [
    "model = CEmbWEmbBiLSTM(\n",
    "    vocabulary_size=len(word2idx) + 1, max_sentence_length=max_sentence_length,\n",
    "    labels=labels, embedding_size=300,\n",
    "    max_char_index=max(char2idx.values()),  # The max possible id for a character\n",
    "    char_embedding_type='cnn', max_word_length=max_word_len)\n",
    "model.add_word_embeddings(embeddings_matrix)\n",
    "model.build()\n",
    "model.model.summary()"
   ]
  },
  {
   "cell_type": "code",
   "execution_count": 91,
   "metadata": {},
   "outputs": [
    {
     "name": "stdout",
     "output_type": "stream",
     "text": [
      "Train on 80 samples, validate on 20 samples\n",
      "Epoch 1/1\n",
      "80/80 [==============================] - 3s 37ms/step - loss: 2.4735 - acc: 0.5582 - val_loss: 1.3482 - val_acc: 0.9500\n"
     ]
    },
    {
     "data": {
      "text/plain": [
       "<keras.callbacks.History at 0x7f1de64c8278>"
      ]
     },
     "execution_count": 91,
     "metadata": {},
     "output_type": "execute_result"
    }
   ],
   "source": [
    "model.fit(X_train=[X_train[:100], extract_chars(X_train[:100])],\n",
    "          y_train=numpy.array(y_train)[:100], epochs=1)"
   ]
  },
  {
   "cell_type": "markdown",
   "metadata": {},
   "source": [
    "Let's try the other model now!"
   ]
  },
  {
   "cell_type": "code",
   "execution_count": 92,
   "metadata": {
    "collapsed": true
   },
   "outputs": [],
   "source": [
    "model = CEmbWEmbBiLSTM(\n",
    "    vocabulary_size=len(word2idx) + 1, max_sentence_length=max_sentence_length,\n",
    "    labels=labels, embedding_size=300,\n",
    "    max_char_index=max(char2idx.values()),  # The max possible id for a character\n",
    "    char_embedding_type='lstm', max_word_length=max_word_len)\n",
    "model.add_word_embeddings(embeddings_matrix)"
   ]
  },
  {
   "cell_type": "code",
   "execution_count": 93,
   "metadata": {},
   "outputs": [
    {
     "name": "stdout",
     "output_type": "stream",
     "text": [
      "Train on 80 samples, validate on 20 samples\n",
      "Epoch 1/1\n",
      "80/80 [==============================] - 4s 45ms/step - loss: 2.3867 - acc: 0.4695 - val_loss: 1.2917 - val_acc: 0.9257\n"
     ]
    },
    {
     "data": {
      "text/plain": [
       "<keras.callbacks.History at 0x7f1de4443588>"
      ]
     },
     "execution_count": 93,
     "metadata": {},
     "output_type": "execute_result"
    }
   ],
   "source": [
    "model.fit(X_train=[X_train[:100], extract_chars(X_train[:100])],\n",
    "          y_train=numpy.array(y_train)[:100], epochs=1)"
   ]
  },
  {
   "cell_type": "code",
   "execution_count": 94,
   "metadata": {
    "collapsed": true
   },
   "outputs": [],
   "source": [
    "model.model.save('models/CEmbLSTMWEmbBiLSTM.keras')"
   ]
  },
  {
   "cell_type": "code",
   "execution_count": 96,
   "metadata": {
    "collapsed": true
   },
   "outputs": [],
   "source": [
    "model.build()\n",
    "model.model.load_weights('models/CEmbLSTMWEmbBiLSTM.keras')"
   ]
  },
  {
   "cell_type": "markdown",
   "metadata": {},
   "source": [
    "We can evaluate the model, although probably it didn't learn anything"
   ]
  },
  {
   "cell_type": "code",
   "execution_count": 97,
   "metadata": {},
   "outputs": [
    {
     "name": "stderr",
     "output_type": "stream",
     "text": [
      "/home/milagro/.local/lib/python3.5/site-packages/sklearn/metrics/classification.py:1113: UndefinedMetricWarning: Precision and F-score are ill-defined and being set to 0.0 in labels with no predicted samples.\n",
      "  'precision', 'predicted', average, warn_for)\n",
      "/home/milagro/.local/lib/python3.5/site-packages/sklearn/metrics/classification.py:1115: UndefinedMetricWarning: Recall and F-score are ill-defined and being set to 0.0 in labels with no true samples.\n",
      "  'recall', 'true', average, warn_for)\n"
     ]
    },
    {
     "name": "stdout",
     "output_type": "stream",
     "text": [
      "             precision    recall  f1-score   support\n",
      "\n",
      "          O       0.96      0.95      0.95      6656\n",
      "      B-geo       0.00      0.00      0.00        55\n",
      "      B-gpe       0.00      0.00      0.00        34\n",
      "      B-per       0.00      0.00      0.00        49\n",
      "      I-geo       0.00      0.00      0.00         8\n",
      "      B-org       0.01      0.07      0.02        41\n",
      "      I-org       0.00      0.00      0.00        38\n",
      "      B-tim       0.00      0.00      0.00        37\n",
      "      B-art       0.00      0.00      0.00         1\n",
      "      I-art       0.00      0.00      0.00         0\n",
      "      I-per       0.00      0.00      0.00        72\n",
      "      I-gpe       0.00      0.00      0.00         1\n",
      "      I-tim       0.00      0.00      0.00         7\n",
      "      B-nat       0.00      0.00      0.00         1\n",
      "      B-eve       0.00      0.00      0.00         0\n",
      "      I-eve       0.00      0.00      0.00         0\n",
      "      I-nat       0.00      0.00      0.00         0\n",
      "\n",
      "avg / total       0.91      0.91      0.91      7000\n",
      "\n"
     ]
    },
    {
     "data": {
      "image/png": "[encoded data removed]",
      "text/plain": [
       "<matplotlib.figure.Figure at 0x7f1ddf148ac8>"
      ]
     },
     "metadata": {},
     "output_type": "display_data"
    }
   ],
   "source": [
    "model.evaluate([X_train[:100], extract_chars(X_train[:100])], numpy.array(y_train)[:100], cm=True)"
   ]
  },
  {
   "cell_type": "markdown",
   "metadata": {},
   "source": [
    "---\n",
    "# Adding the CRF layer\n",
    "\n",
    "Last, we are going to add the CRF layer on top of everything else.\n",
    "\n",
    "We are using the code originally in [UKPLab EMNLP repository](github.com/uKPLab/emnlp2017-bilstm-cnn-crf) that I'm only copying into this repository to avoid compatibility problems."
   ]
  },
  {
   "cell_type": "code",
   "execution_count": 40,
   "metadata": {
    "collapsed": true
   },
   "outputs": [],
   "source": [
    "from ChainCRF import ChainCRF"
   ]
  },
  {
   "cell_type": "code",
   "execution_count": 41,
   "metadata": {
    "collapsed": true
   },
   "outputs": [],
   "source": [
    "class CEmbWEmbBiLSTMCRF(CEmbWEmbBiLSTM):\n",
    "    def __init__(self, vocabulary_size, max_sentence_length, labels,\n",
    "                 embedding_size=50, max_char_index=50, char_embedding_type='cnn',\n",
    "                 max_word_length=20, classifier='softmax'):\n",
    "        super(CEmbWEmbBiLSTMCRF, self).__init__(\n",
    "            vocabulary_size, max_sentence_length, labels,\n",
    "            embedding_size, max_char_index, char_embedding_type, max_word_len)\n",
    "        self.classifier = classifier\n",
    "\n",
    "    def add_output_layer(self, layers):\n",
    "        print(layers)\n",
    "        if self.classifier.lower() == 'softmax':\n",
    "            output = TimeDistributed(\n",
    "                Dense(len(self.labels), activation='softmax'),\n",
    "                name=modelName+'_softmax')(layers)\n",
    "            loss_function = 'sparse_categorical_crossentropy'\n",
    "        elif self.classifier.lower() == 'crf':\n",
    "            output = TimeDistributed(Dense(len(self.labels), activation=None),\n",
    "                                     name='hidden_lin_layer')(layers)\n",
    "            crf = ChainCRF(name='crf_layer')\n",
    "            output = crf(output)\n",
    "            loss_function = crf.loss\n",
    "        else:\n",
    "            raise ValueError('The classifier must be softmax of CRF')\n",
    "        return output, loss_function"
   ]
  },
  {
   "cell_type": "code",
   "execution_count": 42,
   "metadata": {},
   "outputs": [
    {
     "name": "stdout",
     "output_type": "stream",
     "text": [
      "Tensor(\"bidirectional_8/concat:0\", shape=(?, ?, 200), dtype=float32)\n",
      "__________________________________________________________________________________________________\n",
      "Layer (type)                    Output Shape         Param #     Connected to                     \n",
      "==================================================================================================\n",
      "char_input (InputLayer)         (None, 70, 26)       0                                            \n",
      "__________________________________________________________________________________________________\n",
      "word_input (InputLayer)         (None, 70)           0                                            \n",
      "__________________________________________________________________________________________________\n",
      "char_embedding (TimeDistributed (None, 70, 26, 15)   930         char_input[0][0]                 \n",
      "__________________________________________________________________________________________________\n",
      "embedding_9 (Embedding)         (None, 70, 300)      3277200     word_input[0][0]                 \n",
      "__________________________________________________________________________________________________\n",
      "char_cnn (TimeDistributed)      (None, 70, 26, 5)    380         char_embedding[0][0]             \n",
      "__________________________________________________________________________________________________\n",
      "dropout_6 (Dropout)             (None, 70, 300)      0           embedding_9[0][0]                \n",
      "__________________________________________________________________________________________________\n",
      "char_pooling (TimeDistributed)  (None, 70, 5)        0           char_cnn[0][0]                   \n",
      "__________________________________________________________________________________________________\n",
      "concatenate_4 (Concatenate)     (None, 70, 305)      0           dropout_6[0][0]                  \n",
      "                                                                 char_pooling[0][0]               \n",
      "__________________________________________________________________________________________________\n",
      "bidirectional_8 (Bidirectional) (None, 70, 200)      324800      concatenate_4[0][0]              \n",
      "__________________________________________________________________________________________________\n",
      "hidden_lin_layer (TimeDistribut (None, 70, 17)       3417        bidirectional_8[0][0]            \n",
      "__________________________________________________________________________________________________\n",
      "crf_layer (ChainCRF)            (None, 70, 17)       323         hidden_lin_layer[0][0]           \n",
      "==================================================================================================\n",
      "Total params: 3,607,050\n",
      "Trainable params: 329,850\n",
      "Non-trainable params: 3,277,200\n",
      "__________________________________________________________________________________________________\n"
     ]
    }
   ],
   "source": [
    "model = CEmbWEmbBiLSTMCRF(\n",
    "    vocabulary_size=len(word2idx) + 1, max_sentence_length=max_sentence_length,\n",
    "    labels=labels, embedding_size=300,\n",
    "    max_char_index=max(char2idx.values()),  # The max possible id for a character\n",
    "    char_embedding_type='cnn', max_word_length=max_word_len,\n",
    "    classifier='crf')\n",
    "model.add_word_embeddings(embeddings_matrix)\n",
    "model.build()\n",
    "model.model.summary()"
   ]
  },
  {
   "cell_type": "code",
   "execution_count": 43,
   "metadata": {},
   "outputs": [
    {
     "name": "stdout",
     "output_type": "stream",
     "text": [
      "Train on 80 samples, validate on 20 samples\n",
      "Epoch 1/1\n",
      "80/80 [==============================] - 4s 52ms/step - loss: 192.6944 - acc: 0.5980 - val_loss: 185.4018 - val_acc: 0.3493\n"
     ]
    },
    {
     "data": {
      "text/plain": [
       "<keras.callbacks.History at 0x7fa0d1adeb70>"
      ]
     },
     "execution_count": 43,
     "metadata": {},
     "output_type": "execute_result"
    }
   ],
   "source": [
    "model.fit(X_train=[X_train[:100], extract_chars(X_train[:100])],\n",
    "          y_train=numpy.array(y_train)[:100], epochs=1)"
   ]
  },
  {
   "cell_type": "code",
   "execution_count": null,
   "metadata": {
    "collapsed": true
   },
   "outputs": [],
   "source": []
  }
 ],
 "metadata": {
  "hide_code_all_hidden": false,
  "kernelspec": {
   "display_name": "Python [conda env:am_env]",
   "language": "python",
   "name": "conda-env-am_env-py"
  },
  "language_info": {
   "codemirror_mode": {
    "name": "ipython",
    "version": 3
   },
   "file_extension": ".py",
   "mimetype": "text/x-python",
   "name": "python",
   "nbconvert_exporter": "python",
   "pygments_lexer": "ipython3",
   "version": "3.5.3"
  }
 },
 "nbformat": 4,
 "nbformat_minor": 2
}
